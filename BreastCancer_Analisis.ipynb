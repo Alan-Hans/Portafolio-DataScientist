{
  "nbformat": 4,
  "nbformat_minor": 0,
  "metadata": {
    "colab": {
      "name": "BreastCancer_Analisis.ipynb",
      "provenance": [],
      "authorship_tag": "ABX9TyO5hnNv0GEoJRgY0Q2gZXUv",
      "include_colab_link": true
    },
    "kernelspec": {
      "name": "python3",
      "display_name": "Python 3"
    },
    "language_info": {
      "name": "python"
    }
  },
  "cells": [
    {
      "cell_type": "markdown",
      "metadata": {
        "id": "view-in-github",
        "colab_type": "text"
      },
      "source": [
        "<a href=\"https://colab.research.google.com/github/Alan-Hans/Portafolio-DataScientist/blob/main/BreastCancer_Analisis.ipynb\" target=\"_parent\"><img src=\"https://colab.research.google.com/assets/colab-badge.svg\" alt=\"Open In Colab\"/></a>"
      ]
    },
    {
      "cell_type": "markdown",
      "source": [
        "# Breast Cancer Wisconsin (Diagnostic)\n",
        "This project is about breast cancer and its prediction based on a series of data. In this project different prediction methods will be applied including cross validation.\n",
        "You can find the data in https://www.kaggle.com/datasets/uciml/breast-cancer-wisconsin-data"
      ],
      "metadata": {
        "id": "ND0iNazsuUDJ"
      }
    },
    {
      "cell_type": "code",
      "source": [
        "import pandas as pd\n",
        "import numpy as np\n",
        "import seaborn as sns "
      ],
      "metadata": {
        "id": "68wpp-2FvUJy"
      },
      "execution_count": null,
      "outputs": []
    },
    {
      "cell_type": "code",
      "source": [
        ""
      ],
      "metadata": {
        "id": "SY5I2csVv3W3"
      },
      "execution_count": null,
      "outputs": []
    }
  ]
}